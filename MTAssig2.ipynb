{
 "cells": [
  {
   "cell_type": "code",
   "execution_count": 1,
   "id": "14e6c414-df3c-4438-9f66-3a4172cb0340",
   "metadata": {},
   "outputs": [
    {
     "data": {
      "text/plain": [
       "4"
      ]
     },
     "execution_count": 1,
     "metadata": {},
     "output_type": "execute_result"
    }
   ],
   "source": [
    "7%2+3"
   ]
  },
  {
   "cell_type": "code",
   "execution_count": 3,
   "id": "73fb4d3e-50b4-4d63-b09e-8dbd8eec52f1",
   "metadata": {},
   "outputs": [
    {
     "data": {
      "text/plain": [
       "1"
      ]
     },
     "execution_count": 3,
     "metadata": {},
     "output_type": "execute_result"
    }
   ],
   "source": [
    "7-2*3"
   ]
  },
  {
   "cell_type": "code",
   "execution_count": 5,
   "id": "7df02c57-7a5c-43c3-a112-df5b76014a3c",
   "metadata": {},
   "outputs": [
    {
     "data": {
      "text/plain": [
       "10.5"
      ]
     },
     "execution_count": 5,
     "metadata": {},
     "output_type": "execute_result"
    }
   ],
   "source": [
    "#7/2*3\n",
    "\n",
    "\n",
    "\n",
    "from sys import argv\n",
    "\n",
    "if len(argv) < 3:\n",
    "    print(\"Usage: python filename.py <name> <num1> <num2> ...\")\n",
    "else:\n",
    "    total = 0\n",
    "    for i in range(2, len(argv)):\n",
    "        total += float(argv[i])\n",
    "    avg = total / (len(argv) - 2)\n",
    "    print('The Average for {0} is {1:.2f}'.format(argv[1], avg))\n"
   ]
  },
  {
   "cell_type": "code",
   "execution_count": 8,
   "id": "19bdf2e2-fd6e-4bde-a0de-a65cecb7df3a",
   "metadata": {},
   "outputs": [
    {
     "name": "stdout",
     "output_type": "stream",
     "text": [
      "Trying to convert: C:\\Users\\Admin\\AppData\\Roaming\\jupyter\\runtime\\kernel-d6cfbc7c-ac24-43a6-b4e2-e16bd9c7446e.json\n",
      "The Average for -f is 0.00\n"
     ]
    }
   ],
   "source": [
    "from sys import argv\n",
    "sum=0\n",
    "for i in range (2,len(argv)):\n",
    "    print(\"Trying to convert:\", argv[i])\n",
    "   # sum += float(argv[i])\n",
    "avg = sum / (len(argv) - 2)\n",
    "print('The Average for {0} is {1:.2f}'.format(argv[1],avg))\n"
   ]
  },
  {
   "cell_type": "code",
   "execution_count": null,
   "id": "e995e6d2-f369-4d6e-ab06-5e2b70b19513",
   "metadata": {},
   "outputs": [],
   "source": []
  },
  {
   "cell_type": "code",
   "execution_count": 27,
   "id": "851fba28-cbc7-4ea8-93c0-7a0fb76feb6b",
   "metadata": {},
   "outputs": [
    {
     "name": "stdout",
     "output_type": "stream",
     "text": [
      "16\n"
     ]
    }
   ],
   "source": [
    "x=3\n",
    "x+=1\n",
    "x**=2\n",
    "print(x)"
   ]
  },
  {
   "cell_type": "code",
   "execution_count": 31,
   "id": "25faed41-0134-4312-ad50-eb8df947a100",
   "metadata": {},
   "outputs": [
    {
     "name": "stdin",
     "output_type": "stream",
     "text": [
      "Enter  Some value: 10.0\n"
     ]
    },
    {
     "name": "stdout",
     "output_type": "stream",
     "text": [
      "<class 'str'>\n"
     ]
    }
   ],
   "source": [
    "print(type(input('Enter  Some value:')))"
   ]
  },
  {
   "cell_type": "code",
   "execution_count": null,
   "id": "34709518-31b9-42ea-a3ab-441fa02ef286",
   "metadata": {},
   "outputs": [],
   "source": [
    "a=['a','b','c','d']\n",
    "for i in a:\n",
    "    a.append(i.upper())\n",
    "print(a)"
   ]
  },
  {
   "cell_type": "code",
   "execution_count": 37,
   "id": "8a8eae2b-9f1d-4a35-b2a7-363b5d595769",
   "metadata": {},
   "outputs": [
    {
     "data": {
      "text/plain": [
       "'52'"
      ]
     },
     "execution_count": 37,
     "metadata": {},
     "output_type": "execute_result"
    }
   ],
   "source": [
    "a='5'\n",
    "b='2'\n",
    "a+b"
   ]
  },
  {
   "cell_type": "code",
   "execution_count": 51,
   "id": "039dbaf6-1bad-4f5b-b7d1-65cbae6900e4",
   "metadata": {},
   "outputs": [
    {
     "name": "stdin",
     "output_type": "stream",
     "text": [
      "enter some value: 10\n"
     ]
    },
    {
     "name": "stdout",
     "output_type": "stream",
     "text": [
      "<class 'int'>\n"
     ]
    }
   ],
   "source": [
    "print(type(eval(input('enter some value:'))))"
   ]
  },
  {
   "cell_type": "code",
   "execution_count": 49,
   "id": "243126fa-de22-43a1-b4d7-f4be6ec81ec5",
   "metadata": {},
   "outputs": [],
   "source": [
    "a=7\n",
    "b=3\n",
    "c=5\n",
    "d=1\n",
    "s=a+d*2"
   ]
  },
  {
   "cell_type": "code",
   "execution_count": 38,
   "id": "39a34bd4-f8d0-485a-9dc4-f3ddcaea05ab",
   "metadata": {},
   "outputs": [
    {
     "name": "stdout",
     "output_type": "stream",
     "text": [
      "C:\\Users\\Admin\\anaconda3\\Lib\\site-packages\\ipykernel_launcher.py\n"
     ]
    }
   ],
   "source": [
    "from sys import argv\n",
    "print(argv[0])"
   ]
  },
  {
   "cell_type": "code",
   "execution_count": 39,
   "id": "cf41671b-f6c3-48a6-b036-3b5c29e010e8",
   "metadata": {},
   "outputs": [
    {
     "data": {
      "text/plain": [
       "9"
      ]
     },
     "execution_count": 39,
     "metadata": {},
     "output_type": "execute_result"
    }
   ],
   "source": [
    "6//4%5+2**3-2//3"
   ]
  },
  {
   "cell_type": "code",
   "execution_count": 45,
   "id": "b183e162-0588-4d1a-8326-da0e3c8489ea",
   "metadata": {},
   "outputs": [
    {
     "name": "stdout",
     "output_type": "stream",
     "text": [
      "TT\n"
     ]
    }
   ],
   "source": [
    "x='TEXT'\n",
    "s=x[0]+x[-1]\n",
    "print(s)"
   ]
  },
  {
   "cell_type": "code",
   "execution_count": 47,
   "id": "c7718696-0f6c-4c5d-9896-64fed4cc8207",
   "metadata": {},
   "outputs": [
    {
     "name": "stdout",
     "output_type": "stream",
     "text": [
      "False\n",
      "True\n",
      "False\n"
     ]
    }
   ],
   "source": [
    "print(10==10 and 20!=20)\n",
    "print(10==10 or 20!=20)\n",
    "print(not 10==10)"
   ]
  },
  {
   "cell_type": "code",
   "execution_count": null,
   "id": "7242efa2-14d9-42b6-9c23-86746f9e8f74",
   "metadata": {},
   "outputs": [],
   "source": [
    "a=float('123.456')\n",
    "print(bool(a)+True)"
   ]
  },
  {
   "cell_type": "code",
   "execution_count": null,
   "id": "bf7d287c-973b-4708-913b-95d2927a5028",
   "metadata": {},
   "outputs": [],
   "source": [
    "distace=float(input('Enter the distance travelled in feet:'))\n",
    "distance_miles=distance/5280\n",
    "time=float(input('Enter the time elapsed in second:'))\n",
    "time_hours=time/3600\n",
    "velocity=distance_miles/time_hours\n",
    "print('The average avelocity :',velocity,'miles/hours')"
   ]
  },
  {
   "cell_type": "code",
   "execution_count": null,
   "id": "85aff67b-41c6-4da7-865b-806a46d4addc",
   "metadata": {},
   "outputs": [],
   "source": [
    "x=2\n",
    "y=6\n",
    "x+=2**3\n",
    "x\n",
    "print(x)"
   ]
  },
  {
   "cell_type": "code",
   "execution_count": null,
   "id": "ade0bc90-d8e5-4590-82a4-d1e767088e4f",
   "metadata": {},
   "outputs": [],
   "source": [
    "from sys import argv\n",
    "print(argv[1])"
   ]
  },
  {
   "cell_type": "code",
   "execution_count": 64,
   "id": "c74f9678-4b2d-43e6-ab53-f45c77d607fb",
   "metadata": {},
   "outputs": [
    {
     "name": "stdin",
     "output_type": "stream",
     "text": [
      "Enter count value: 45\n"
     ]
    },
    {
     "name": "stdout",
     "output_type": "stream",
     "text": [
      "46\n"
     ]
    }
   ],
   "source": [
    "count=int(input('Enter count value:'))\n",
    "print(count+1)"
   ]
  },
  {
   "cell_type": "code",
   "execution_count": 82,
   "id": "307508cb-6ce7-4df5-a8b5-4dbe0f8f0315",
   "metadata": {},
   "outputs": [],
   "source": [
    "t=([10,20],10,False)\n",
    "x=type(t[0])"
   ]
  },
  {
   "cell_type": "code",
   "execution_count": 76,
   "id": "3d16a61b-c6f7-49e6-bca8-02461bee3a65",
   "metadata": {},
   "outputs": [
    {
     "data": {
      "text/plain": [
       "2"
      ]
     },
     "execution_count": 76,
     "metadata": {},
     "output_type": "execute_result"
    }
   ],
   "source": [
    "22%5"
   ]
  },
  {
   "cell_type": "code",
   "execution_count": 84,
   "id": "8052429c-d052-4637-a178-4225e108340e",
   "metadata": {},
   "outputs": [
    {
     "name": "stdout",
     "output_type": "stream",
     "text": [
      "25.0\n"
     ]
    }
   ],
   "source": [
    "x=3/3+3**3-3\n",
    "print(x)"
   ]
  },
  {
   "cell_type": "code",
   "execution_count": 93,
   "id": "5784cba6-22d2-4923-b654-90ef8313056c",
   "metadata": {},
   "outputs": [
    {
     "name": "stdout",
     "output_type": "stream",
     "text": [
      "6.0\n"
     ]
    }
   ],
   "source": [
    "result=str(bool(1)+float(10)/float(2))\n",
    "print(result)\n"
   ]
  },
  {
   "cell_type": "markdown",
   "id": "f0426ede-095e-4546-b0d5-a92293538944",
   "metadata": {},
   "source": [
    "from sys import argv\n",
    "print(argv[1]+argv[2])"
   ]
  },
  {
   "cell_type": "code",
   "execution_count": 95,
   "id": "e3215146-a3a8-4ffd-a1f3-76baef066698",
   "metadata": {},
   "outputs": [
    {
     "name": "stdout",
     "output_type": "stream",
     "text": [
      "Enter the Number:\n"
     ]
    },
    {
     "name": "stdin",
     "output_type": "stream",
     "text": [
      " Alisha\n"
     ]
    },
    {
     "name": "stdout",
     "output_type": "stream",
     "text": [
      "Alisha\n"
     ]
    }
   ],
   "source": [
    "print('Enter the Number:')\n",
    "name=input()\n",
    "print(name)"
   ]
  },
  {
   "cell_type": "code",
   "execution_count": null,
   "id": "ade3ae6e-1591-4629-9774-2aa6d2c46ec3",
   "metadata": {},
   "outputs": [],
   "source": [
    "type('') is <class 'bool'>\n",
    "#True and False evaluates to False\n",
    "# True+1 Evaluates to 2"
   ]
  },
  {
   "cell_type": "code",
   "execution_count": 24,
   "id": "0e214a49-9949-42b7-82e0-7995f59cb4f4",
   "metadata": {},
   "outputs": [
    {
     "name": "stdout",
     "output_type": "stream",
     "text": [
      "True\n",
      "False\n",
      "True\n",
      "False\n",
      "True\n"
     ]
    }
   ],
   "source": [
    "print(not 0)\n",
    "print(not 10)\n",
    "print(not '')\n",
    "print(not 'durga')\n",
    "print(not None)"
   ]
  },
  {
   "cell_type": "code",
   "execution_count": 25,
   "id": "7fddf42c-444c-49b8-a98a-4835a4f61389",
   "metadata": {},
   "outputs": [
    {
     "name": "stdout",
     "output_type": "stream",
     "text": [
      "True\n",
      "False\n",
      "False\n",
      "False\n"
     ]
    }
   ],
   "source": [
    "l1=['sunny','bunny','chinny','vinny']\n",
    "l2=['sunny','bunny','chinny','vinny']\n",
    "print(l1 is not l2)\n",
    "print(l1 != l2)\n",
    "l1=l2\n",
    "print(l1 is not l2)\n",
    "print(l1 != l2)"
   ]
  },
  {
   "cell_type": "code",
   "execution_count": 29,
   "id": "38ff51be-6a49-4c53-9a94-d507ebd63e4c",
   "metadata": {},
   "outputs": [
    {
     "name": "stdout",
     "output_type": "stream",
     "text": [
      "<class 'int'>\n"
     ]
    }
   ],
   "source": [
    "x=2**2**2\n",
    "print(type(x))"
   ]
  },
  {
   "cell_type": "code",
   "execution_count": 53,
   "id": "3926ae2b-700e-4862-a8cb-a69565acb937",
   "metadata": {},
   "outputs": [
    {
     "name": "stdout",
     "output_type": "stream",
     "text": [
      "10\n"
     ]
    }
   ],
   "source": [
    "s='DURGA SOFT'\n",
    "result=len(s.lstrip())\n",
    "print(result)"
   ]
  },
  {
   "cell_type": "code",
   "execution_count": 51,
   "id": "3ef54e9d-cf0e-4788-a377-7a510edfa9c0",
   "metadata": {},
   "outputs": [
    {
     "name": "stdout",
     "output_type": "stream",
     "text": [
      "10\n"
     ]
    }
   ],
   "source": [
    "s='DURGA SOFT'\n",
    "result=len(s)\n",
    "print(result)"
   ]
  },
  {
   "cell_type": "code",
   "execution_count": 49,
   "id": "b7d20b2c-b3cc-48fc-8f01-531508301e6f",
   "metadata": {},
   "outputs": [
    {
     "name": "stdout",
     "output_type": "stream",
     "text": [
      "10\n"
     ]
    }
   ],
   "source": [
    "s='DURGA SOFT'\n",
    "result=len(s.rstrip())\n",
    "print(result)"
   ]
  },
  {
   "cell_type": "code",
   "execution_count": 47,
   "id": "fb699464-5d75-4fd9-a4c9-3891d8833e3e",
   "metadata": {},
   "outputs": [
    {
     "name": "stdout",
     "output_type": "stream",
     "text": [
      "10\n"
     ]
    }
   ],
   "source": [
    "s='DURGA SOFT'\n",
    "result=len(s.strip())\n",
    "print(result)"
   ]
  },
  {
   "cell_type": "code",
   "execution_count": 45,
   "id": "913b1fc8-cbc4-4349-89ae-1b091b52c27a",
   "metadata": {},
   "outputs": [
    {
     "name": "stdout",
     "output_type": "stream",
     "text": [
      "9\n"
     ]
    }
   ],
   "source": [
    "s='DURGA SOFT'\n",
    "result=len(s.replace(' ',''))\n",
    "print(result)"
   ]
  },
  {
   "cell_type": "code",
   "execution_count": 39,
   "id": "b5d3f8e1-633a-4098-9bd2-0cdb23f97c7c",
   "metadata": {},
   "outputs": [
    {
     "name": "stdout",
     "output_type": "stream",
     "text": [
      "0\n"
     ]
    }
   ],
   "source": [
    "v1=1\n",
    "v2=0\n",
    "v1=v1^v2\n",
    "v2=v1^v2\n",
    "v1=v1^v2\n",
    "print(v1)"
   ]
  },
  {
   "cell_type": "code",
   "execution_count": 55,
   "id": "96507907-63c8-437a-822f-23d326b7210d",
   "metadata": {},
   "outputs": [
    {
     "name": "stdin",
     "output_type": "stream",
     "text": [
      "Enter the number of customer: 15\n"
     ]
    },
    {
     "name": "stdout",
     "output_type": "stream",
     "text": [
      "20\n"
     ]
    }
   ],
   "source": [
    "count=input('Enter the number of customer:')\n",
    "output=int(count)+5\n",
    "print(output)"
   ]
  },
  {
   "cell_type": "code",
   "execution_count": 57,
   "id": "5700885c-b971-4633-a09f-1a16d8a3453d",
   "metadata": {},
   "outputs": [
    {
     "name": "stdout",
     "output_type": "stream",
     "text": [
      "False\n",
      "True\n"
     ]
    }
   ],
   "source": [
    "lst=[7,8,9]\n",
    "b=lst[:]\n",
    "print(b is lst)\n",
    "print(b == lst)"
   ]
  },
  {
   "cell_type": "code",
   "execution_count": null,
   "id": "f8017516-849d-44b8-b9be-e472aff79a58",
   "metadata": {},
   "outputs": [],
   "source": []
  }
 ],
 "metadata": {
  "kernelspec": {
   "display_name": "Python 3 (ipykernel)",
   "language": "python",
   "name": "python3"
  },
  "language_info": {
   "codemirror_mode": {
    "name": "ipython",
    "version": 3
   },
   "file_extension": ".py",
   "mimetype": "text/x-python",
   "name": "python",
   "nbconvert_exporter": "python",
   "pygments_lexer": "ipython3",
   "version": "3.12.4"
  }
 },
 "nbformat": 4,
 "nbformat_minor": 5
}
