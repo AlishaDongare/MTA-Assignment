{
 "cells": [
  {
   "cell_type": "code",
   "execution_count": 8,
   "id": "89191c90-1171-4cc8-8481-d97c2201a295",
   "metadata": {},
   "outputs": [
    {
     "name": "stdin",
     "output_type": "stream",
     "text": [
      "Enter Next Rating(1-5),-1 for done 4\n",
      "Enter Next Rating(1-5),-1 for done 5\n",
      "Enter Next Rating(1-5),-1 for done -1\n"
     ]
    },
    {
     "name": "stdout",
     "output_type": "stream",
     "text": [
      "The avg star rating for the new coffee is: 4.500000\n"
     ]
    }
   ],
   "source": [
    "sum=count=done=0\n",
    "avg=0.0\n",
    "while(done != -1):\n",
    "      rating=float(input(\"Enter Next Rating(1-5),-1 for done\"))\n",
    "      if rating == -1:\n",
    "          break\n",
    "      sum+=rating\n",
    "      count+=1\n",
    "avg=float(sum/count)\n",
    "print('The avg star rating for the new coffee is: {:2f}' .format(avg))"
   ]
  },
  {
   "cell_type": "code",
   "execution_count": null,
   "id": "f9a71371-41a4-4243-8d86-eec958ea07fe",
   "metadata": {},
   "outputs": [],
   "source": [
    "We are developing a sports application. \n",
    "Our program should allow players to enter\n",
    "their name and score. The program will print player name and his average score.\n",
    "Output must meet the following requirements:\n",
    "The user name must be left aligned. \n",
    "If the user name is fewer than 20 characters ,additional space must be \n",
    "added to the right. The average score must be 3 places to the left of \n",
    "decimal point and one place to the right of decimal point (like"
   ]
  },
  {
   "cell_type": "code",
   "execution_count": 113,
   "id": "a50b59e8-0a35-4d93-8151-04677cfdf47e",
   "metadata": {},
   "outputs": [
    {
     "name": "stdin",
     "output_type": "stream",
     "text": [
      "Enter Your Name:  Alisha\n",
      "Enter your scores: (-1 to end)  50\n",
      "Enter your scores: (-1 to end)  -1\n"
     ]
    },
    {
     "name": "stdout",
     "output_type": "stream",
     "text": [
      "Alisha               Your average score is : 50.0\n"
     ]
    }
   ],
   "source": [
    "name = input('Enter Your Name: ')\n",
    "score = 0\n",
    "count = 0\n",
    "total = 0\n",
    "\n",
    "while score != -1:\n",
    "    score = int(input('Enter your scores: (-1 to end) '))\n",
    "    if score == -1:\n",
    "        break\n",
    "    total += score\n",
    "    count += 1\n",
    "\n",
    "if count > 0:\n",
    "    average_score = total / count\n",
    "    print('%-20s Your average score is : %.1f' % (name, average_score))\n",
    "else:\n",
    "    print('No scores entered.')\n"
   ]
  },
  {
   "cell_type": "code",
   "execution_count": 47,
   "id": "a8fd9107-3d04-4465-a016-8f1a02fd3bdc",
   "metadata": {},
   "outputs": [
    {
     "name": "stdout",
     "output_type": "stream",
     "text": [
      "0\n",
      "1\n",
      "2\n",
      "3\n",
      "4\n",
      "5\n",
      "6\n"
     ]
    }
   ],
   "source": [
    "number=[0,1,2,3,4,5,6,7,8,9]\n",
    "index=0\n",
    "while(index<10): \n",
    "    print(number[index])\n",
    "    if number[index]==6:\n",
    "             break\n",
    "    else:\n",
    "               index+=1"
   ]
  },
  {
   "cell_type": "code",
   "execution_count": 115,
   "id": "57fe8e83-a91a-4b0d-a4c9-23c428f0fee6",
   "metadata": {},
   "outputs": [
    {
     "name": "stdin",
     "output_type": "stream",
     "text": [
      "Enter your Employee Number (dd-ddd-dddd):  Alisha\n"
     ]
    },
    {
     "name": "stdout",
     "output_type": "stream",
     "text": [
      "False\n"
     ]
    }
   ],
   "source": [
    "employee_number = input('Enter your Employee Number (dd-ddd-dddd): ')\n",
    "parts = employee_number.split('-')\n",
    "valid = False\n",
    "\n",
    "if len(parts) == 3:\n",
    "    if len(parts[0]) == 2 and len(parts[1]) == 3 and len(parts[2]) == 4:\n",
    "        if parts[0].isdigit() and parts[1].isdigit() and parts[2].isdigit():\n",
    "            valid = True\n",
    "\n",
    "print(valid)\n"
   ]
  },
  {
   "cell_type": "code",
   "execution_count": 69,
   "id": "4af69767-5229-434e-aca3-4a48c8efe6f4",
   "metadata": {},
   "outputs": [],
   "source": [
    "def root(a,b):\n",
    "    if a>=0:\n",
    "           answer=a**(1/b)\n",
    "    elif a%2 == 0:\n",
    "           answer=\"Result is an imaginary number\"\n",
    "    else:\n",
    "           answer=-(-a)**(1/b)\n",
    "    return answer\n"
   ]
  },
  {
   "cell_type": "code",
   "execution_count": 71,
   "id": "07a59e80-2eaa-4b85-a80e-134d55bc5856",
   "metadata": {},
   "outputs": [
    {
     "name": "stdin",
     "output_type": "stream",
     "text": [
      "Enter day of the week: Monday\n"
     ]
    }
   ],
   "source": [
    "d = input('Enter day of the week:')\n",
    "discount_percent = 3\n",
    "\n",
    "if d=='Monday':\n",
    "    discount_percent+=5\n",
    "    \n",
    "elif d=='Tuesday':\n",
    "    discount_percent+=7\n",
    "\n",
    "elif d=='Saturday':\n",
    "    discount_percent+=10\n",
    "elif d=='Sunday':\n",
    "     discount_percent+=20\n",
    "else:\n",
    "     discount_percentage+=2\n",
    "    "
   ]
  },
  {
   "cell_type": "code",
   "execution_count": 73,
   "id": "67199c6c-d4eb-40e4-84ff-e26f438ad9e3",
   "metadata": {},
   "outputs": [
    {
     "name": "stdin",
     "output_type": "stream",
     "text": [
      "Enter Loan Amount: 50001\n"
     ]
    }
   ],
   "source": [
    "amount=float(input('Enter Loan Amount:'))\n",
    "interest_rate=0\n",
    "if amount>0 and amount <= 50000:\n",
    "    interest_rate = 10\n",
    "elif amount > 50000 and amount <100000:\n",
    "    interest_rate = 12\n",
    "elif amount >=100000 and amount<150000:\n",
    "    interest_rate = 16\n",
    "else:\n",
    "    interest_rate =22"
   ]
  },
  {
   "cell_type": "code",
   "execution_count": 79,
   "id": "d4a96574-9663-44a9-8cb4-9ff6890e18bc",
   "metadata": {},
   "outputs": [],
   "source": [
    "collected_amount=3000\n",
    "commission=0\n",
    "if collected_amount <= 2000:\n",
    "    commision=50\n",
    "elif collected_amount> 2500 and collected_amount<3000:\n",
    "    commission= 100\n",
    "elif collected_amount>2500:\n",
    "    commission=150\n",
    "    if collected_amount>3000:\n",
    "        commision+=200\n",
    "    "
   ]
  },
  {
   "cell_type": "code",
   "execution_count": 81,
   "id": "a0d5215c-7f22-412f-b52b-4276447320fa",
   "metadata": {},
   "outputs": [
    {
     "name": "stdout",
     "output_type": "stream",
     "text": [
      "2\n"
     ]
    }
   ],
   "source": [
    "l=[10,20,[30,40],[50,60]]\n",
    "count=0\n",
    "for i in range(len(l)):\n",
    "    if type(l[i])==list:\n",
    "        count=count+1\n",
    "print(count)"
   ]
  },
  {
   "cell_type": "code",
   "execution_count": 93,
   "id": "2b23680a-fc71-4abc-8bef-70ed8839a273",
   "metadata": {},
   "outputs": [
    {
     "name": "stdout",
     "output_type": "stream",
     "text": [
      "2\n",
      "3\n",
      "5\n",
      "7\n",
      "11\n",
      "13\n",
      "17\n",
      "19\n",
      "23\n",
      "29\n",
      "31\n",
      "37\n",
      "41\n",
      "43\n",
      "47\n",
      "53\n",
      "59\n",
      "61\n",
      "67\n",
      "71\n",
      "73\n",
      "79\n",
      "83\n",
      "89\n",
      "97\n",
      "101\n",
      "103\n",
      "107\n",
      "109\n",
      "113\n",
      "127\n",
      "131\n",
      "137\n",
      "139\n",
      "149\n",
      "151\n",
      "157\n",
      "163\n",
      "167\n",
      "173\n",
      "179\n",
      "181\n",
      "191\n",
      "193\n",
      "197\n",
      "199\n"
     ]
    }
   ],
   "source": [
    "p=2\n",
    "while p<=200:\n",
    "       is_prime=True\n",
    "       for i in range (2,p):\n",
    "           if p % i == 0:\n",
    "               is_prime=False\n",
    "               break\n",
    "       if is_prime==True:\n",
    "                print(p)\n",
    "\n",
    "       p=p+1"
   ]
  },
  {
   "cell_type": "code",
   "execution_count": 95,
   "id": "22dd5697-6b55-4818-94b6-ea98f7ab2679",
   "metadata": {},
   "outputs": [
    {
     "name": "stdout",
     "output_type": "stream",
     "text": [
      "0\n",
      "1\n",
      "2\n",
      "3\n",
      "4\n",
      "5\n",
      "6\n"
     ]
    }
   ],
   "source": [
    "productIdList=[0,1,2,3,4,5,6,7,8,9]\n",
    "index=0\n",
    "while index<len(productIdList):\n",
    "        print(productIdList[index])\n",
    "        if productIdList[index]==6:\n",
    "            break\n",
    "        else:\n",
    "            index+=1"
   ]
  },
  {
   "cell_type": "code",
   "execution_count": 97,
   "id": "96f42355-41ed-4377-991e-61d6f8ae8791",
   "metadata": {},
   "outputs": [
    {
     "name": "stdout",
     "output_type": "stream",
     "text": [
      "[13, 40, 17, 10]\n"
     ]
    }
   ],
   "source": [
    "x=[13,4,17,10]\n",
    "w=x[1:]\n",
    "u=x[1:]\n",
    "y=x\n",
    "u[0]=50\n",
    "y[1]=40\n",
    "print(x)"
   ]
  },
  {
   "cell_type": "code",
   "execution_count": 99,
   "id": "78eadeac-34c2-4f62-a6d8-5bd1771c49b9",
   "metadata": {},
   "outputs": [
    {
     "name": "stdout",
     "output_type": "stream",
     "text": [
      "olleh\n"
     ]
    }
   ],
   "source": [
    "startmsg='hello'\n",
    "endmsg=''\n",
    "for i in range (0,len(startmsg)):\n",
    "    endmsg=startmsg[i]+endmsg\n",
    "print(endmsg)"
   ]
  },
  {
   "cell_type": "code",
   "execution_count": 103,
   "id": "372da0b0-7c5f-4c67-8699-42e5f42e345d",
   "metadata": {},
   "outputs": [],
   "source": [
    "def get_rating(age):\n",
    "       if age>=18:\n",
    "           rating=\"A\"\n",
    "       elif  age>=13:\n",
    "           rating='T'\n",
    "       else:\n",
    "           rating=\"C\"\n",
    "       return rating"
   ]
  },
  {
   "cell_type": "code",
   "execution_count": 105,
   "id": "2cca0dcc-b738-4bc7-9c62-e9dd6a6b1e26",
   "metadata": {},
   "outputs": [
    {
     "name": "stdout",
     "output_type": "stream",
     "text": [
      "0,1,1,2,3,5,8,"
     ]
    }
   ],
   "source": [
    "def fib(n):\n",
    "    if n==0:\n",
    "        return 0\n",
    "    elif n==1:\n",
    "        return 1\n",
    "    else:\n",
    "        return fib(n-1)+fib(n-2)\n",
    "for i in range(7):\n",
    "    print(fib(i),end=\",\")\n"
   ]
  },
  {
   "cell_type": "code",
   "execution_count": null,
   "id": "f027f32e-1c9b-4af1-ab76-b33ca36e5ba1",
   "metadata": {},
   "outputs": [],
   "source": []
  }
 ],
 "metadata": {
  "kernelspec": {
   "display_name": "Python 3 (ipykernel)",
   "language": "python",
   "name": "python3"
  },
  "language_info": {
   "codemirror_mode": {
    "name": "ipython",
    "version": 3
   },
   "file_extension": ".py",
   "mimetype": "text/x-python",
   "name": "python",
   "nbconvert_exporter": "python",
   "pygments_lexer": "ipython3",
   "version": "3.12.4"
  }
 },
 "nbformat": 4,
 "nbformat_minor": 5
}
