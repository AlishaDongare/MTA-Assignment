{
 "cells": [
  {
   "cell_type": "code",
   "execution_count": 1,
   "id": "47ab22cd-3054-4a14-8238-71f7b5bd137c",
   "metadata": {},
   "outputs": [
    {
     "name": "stdout",
     "output_type": "stream",
     "text": [
      "<function f1 at 0x0000028D44BA74C0>\n"
     ]
    }
   ],
   "source": [
    "def f1():\n",
    "    try:\n",
    "         return 1\n",
    "    finally:\n",
    "         return 2\n",
    "x=f1\n",
    "print(x)"
   ]
  },
  {
   "cell_type": "code",
   "execution_count": 3,
   "id": "47f5c421-cd2b-4780-ad13-8861264a4f8d",
   "metadata": {},
   "outputs": [
    {
     "name": "stdout",
     "output_type": "stream",
     "text": [
      "try\n",
      "else\n",
      "finally\n"
     ]
    }
   ],
   "source": [
    "try:\n",
    "    print('try')\n",
    "except:\n",
    "    print('except')\n",
    "else:\n",
    "    print('else')\n",
    "finally:\n",
    "    print('finally')"
   ]
  },
  {
   "cell_type": "code",
   "execution_count": 5,
   "id": "68e27411-1f4b-444a-9b3b-0e4b324bdab6",
   "metadata": {},
   "outputs": [
    {
     "name": "stdout",
     "output_type": "stream",
     "text": [
      "try\n",
      "except\n",
      "finally\n"
     ]
    }
   ],
   "source": [
    "try:\n",
    "    print('try')\n",
    "    print(10/0)\n",
    "except:\n",
    "    print('except')\n",
    "else:\n",
    "    print('else')\n",
    "finally:\n",
    "    print('finally')"
   ]
  },
  {
   "cell_type": "code",
   "execution_count": 19,
   "id": "091b58a6-1e46-4831-8247-0e2fe5046be4",
   "metadata": {},
   "outputs": [
    {
     "name": "stdout",
     "output_type": "stream",
     "text": [
      "File Does Not exit\n"
     ]
    }
   ],
   "source": [
    "f=None\n",
    "try:\n",
    "    f=open('abc.txt')\n",
    "except FileNotFoundError:\n",
    "    print('File Does Not exit')\n",
    "else:\n",
    "    print(f.read())\n",
    "finally:\n",
    "    if f !=None:\n",
    "        f.close()"
   ]
  },
  {
   "cell_type": "code",
   "execution_count": 23,
   "id": "6db21980-205c-47fd-9818-905f77c4fcbb",
   "metadata": {},
   "outputs": [
    {
     "name": "stdout",
     "output_type": "stream",
     "text": [
      "86.0\n"
     ]
    }
   ],
   "source": [
    "prices=[30,5,'40.5',10.5]\n",
    "total=0\n",
    "for price in prices:\n",
    "    total += float(price)\n",
    "print(total)"
   ]
  },
  {
   "cell_type": "code",
   "execution_count": 28,
   "id": "a926a4a5-7d85-42c9-b33f-c8aa57b5268c",
   "metadata": {},
   "outputs": [
    {
     "name": "stdout",
     "output_type": "stream",
     "text": [
      "85\n"
     ]
    }
   ],
   "source": [
    "prices=[30,5,'40',10.5]\n",
    "total=0\n",
    "for price in prices:\n",
    "    total += int(price)\n",
    "print(total)"
   ]
  },
  {
   "cell_type": "code",
   "execution_count": 36,
   "id": "b54ec60f-ff45-4506-9a2b-53d58c1582b8",
   "metadata": {},
   "outputs": [
    {
     "name": "stdout",
     "output_type": "stream",
     "text": [
      "java\n",
      "java\n",
      "java\n"
     ]
    }
   ],
   "source": [
    "courses={1:'java',2:'Scale',3:'Python'}\n",
    "for i in range(1,5):\n",
    "    if i in courses:\n",
    "        print(courses[1])"
   ]
  },
  {
   "cell_type": "code",
   "execution_count": 40,
   "id": "0bba8c0d-6ff0-4518-a0c9-45fb44da28c4",
   "metadata": {},
   "outputs": [
    {
     "name": "stdin",
     "output_type": "stream",
     "text": [
      "Enter Marks: 45\n",
      "Enter Marks: 56\n",
      "Enter Marks: 48\n",
      "Enter Marks: 66\n"
     ]
    },
    {
     "ename": "TypeError",
     "evalue": "unsupported operand type(s) for +=: 'int' and 'str'",
     "output_type": "error",
     "traceback": [
      "\u001b[1;31m---------------------------------------------------------------------------\u001b[0m",
      "\u001b[1;31mTypeError\u001b[0m                                 Traceback (most recent call last)",
      "Cell \u001b[1;32mIn[40], line 12\u001b[0m\n\u001b[0;32m     10\u001b[0m         \u001b[38;5;28;01mreturn\u001b[39;00m \u001b[38;5;28msum\u001b[39m\u001b[38;5;241m/\u001b[39m\u001b[38;5;28mlen\u001b[39m(data)\n\u001b[0;32m     11\u001b[0m get_data()\n\u001b[1;32m---> 12\u001b[0m \u001b[38;5;28mprint\u001b[39m(get_avg())\n",
      "Cell \u001b[1;32mIn[40], line 9\u001b[0m, in \u001b[0;36mget_avg\u001b[1;34m()\u001b[0m\n\u001b[0;32m      7\u001b[0m \u001b[38;5;28msum\u001b[39m\u001b[38;5;241m=\u001b[39m\u001b[38;5;241m0\u001b[39m\n\u001b[0;32m      8\u001b[0m \u001b[38;5;28;01mfor\u001b[39;00m mark \u001b[38;5;129;01min\u001b[39;00m data:\n\u001b[1;32m----> 9\u001b[0m     \u001b[38;5;28msum\u001b[39m \u001b[38;5;241m+\u001b[39m\u001b[38;5;241m=\u001b[39mmark\n\u001b[0;32m     10\u001b[0m \u001b[38;5;28;01mreturn\u001b[39;00m \u001b[38;5;28msum\u001b[39m\u001b[38;5;241m/\u001b[39m\u001b[38;5;28mlen\u001b[39m(data)\n",
      "\u001b[1;31mTypeError\u001b[0m: unsupported operand type(s) for +=: 'int' and 'str'"
     ]
    }
   ],
   "source": [
    "data=[]\n",
    "def get_data():\n",
    "    for i in range(1,5):\n",
    "        marks=input('Enter Marks:')\n",
    "        data.append(marks)\n",
    "def get_avg():\n",
    "        sum=0\n",
    "        for mark in data:\n",
    "            sum +=mark\n",
    "        return sum/len(data)\n",
    "get_data()\n",
    "print(get_avg())"
   ]
  },
  {
   "cell_type": "code",
   "execution_count": 44,
   "id": "7251c42a-b9e6-4b9e-a5c9-7006ff24cf20",
   "metadata": {},
   "outputs": [],
   "source": [
    "import os\n",
    "def get_data(filename,mode):\n",
    "    if os.path.isfile(filename):\n",
    "        with open(filename,'r') as file:\n",
    "            return file.readline()\n",
    "    else:\n",
    "        return None"
   ]
  },
  {
   "cell_type": "code",
   "execution_count": 46,
   "id": "4c121107-7f05-4521-b363-fa8387194785",
   "metadata": {},
   "outputs": [
    {
     "name": "stdout",
     "output_type": "stream",
     "text": [
      "Unablr to open the file\n",
      "0\n"
     ]
    }
   ],
   "source": [
    "values=0\n",
    "try:\n",
    "    f=open('abc.txt','r')\n",
    "    content=f.readlines()\n",
    "    for line in content:\n",
    "        values+=float(line.split(':')[1])\n",
    "    f.close()\n",
    "except Exception:\n",
    "    print('Unablr to open the file')\n",
    "print(values)"
   ]
  },
  {
   "cell_type": "code",
   "execution_count": 52,
   "id": "78b207bf-5a59-48dc-8079-e68a6931842b",
   "metadata": {},
   "outputs": [
    {
     "name": "stdout",
     "output_type": "stream",
     "text": [
      "1\n"
     ]
    }
   ],
   "source": [
    "import math \n",
    "l=[str(round(math.pi)) for i in range(1,6)]\n",
    "print(1)"
   ]
  },
  {
   "cell_type": "code",
   "execution_count": 54,
   "id": "2316602a-748c-401e-8b1b-ef08e49850f6",
   "metadata": {},
   "outputs": [
    {
     "name": "stdout",
     "output_type": "stream",
     "text": [
      "MAngo\n"
     ]
    }
   ],
   "source": [
    "import random\n",
    "fruits=['Apple','MAngo','Orange','Lemon']\n",
    "print(random.sample(fruits,3)[0])"
   ]
  },
  {
   "cell_type": "code",
   "execution_count": 56,
   "id": "210cdc9a-9d72-4b57-9284-9a08df9dffcd",
   "metadata": {},
   "outputs": [],
   "source": [
    "import math\n",
    "def find_area(r):\n",
    "    return math.pi*math.pow(r,2)"
   ]
  },
  {
   "cell_type": "code",
   "execution_count": null,
   "id": "d662d9a4-a8cc-4d05-997d-9c382a429f95",
   "metadata": {},
   "outputs": [],
   "source": []
  }
 ],
 "metadata": {
  "kernelspec": {
   "display_name": "Python 3 (ipykernel)",
   "language": "python",
   "name": "python3"
  },
  "language_info": {
   "codemirror_mode": {
    "name": "ipython",
    "version": 3
   },
   "file_extension": ".py",
   "mimetype": "text/x-python",
   "name": "python",
   "nbconvert_exporter": "python",
   "pygments_lexer": "ipython3",
   "version": "3.12.4"
  }
 },
 "nbformat": 4,
 "nbformat_minor": 5
}
