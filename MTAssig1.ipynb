{
 "cells": [
  {
   "cell_type": "code",
   "execution_count": 1,
   "id": "1d13c55b-d265-414a-aa27-536ac17dc399",
   "metadata": {},
   "outputs": [
    {
     "name": "stdout",
     "output_type": "stream",
     "text": [
      "5.0\n"
     ]
    }
   ],
   "source": [
    "x=8\n",
    "y=10\n",
    "result=x//3*3/2+y%2**2\n",
    "print(result)\n"
   ]
  },
  {
   "cell_type": "code",
   "execution_count": 5,
   "id": "5ab3f472-7a73-4666-a4d5-430673e4e43d",
   "metadata": {},
   "outputs": [
    {
     "name": "stdin",
     "output_type": "stream",
     "text": [
      "How old were you at the time of joining? 2\n",
      "How old are you today? 15\n"
     ]
    },
    {
     "name": "stdout",
     "output_type": "stream",
     "text": [
      "Congratulation on 13Year of Service!\n"
     ]
    }
   ],
   "source": [
    "start=input('How old were you at the time of joining?')\n",
    "end=input('How old are you today?')\n",
    "print('Congratulation on '+str(int(end)-int(start))+'Year of Service!')"
   ]
  },
  {
   "cell_type": "code",
   "execution_count": 120,
   "id": "61662bc8-2420-4821-85c5-3dc2c8899e05",
   "metadata": {},
   "outputs": [],
   "source": []
  },
  {
   "cell_type": "code",
   "execution_count": 28,
   "id": "182cfbce-2be7-4c54-b8ab-e4ef8441c6d8",
   "metadata": {},
   "outputs": [
    {
     "name": "stdout",
     "output_type": "stream",
     "text": [
      "True\n"
     ]
    }
   ],
   "source": [
    "x='Durga'\n",
    "y='Durga'\n",
    "result=x is y\n",
    "print(result)"
   ]
  },
  {
   "cell_type": "code",
   "execution_count": 36,
   "id": "88accfdb-f11a-4ea5-94e4-b6b9ae28c33b",
   "metadata": {},
   "outputs": [],
   "source": [
    "a1='10'\n",
    "b1=3\n",
    "c1=a1*b1\n",
    "\n",
    "a2=10\n",
    "b2=3\n",
    "c2=a2/b2\n",
    "\n",
    "a3=2.6\n",
    "b3=1\n",
    "c3=a3/b3"
   ]
  },
  {
   "cell_type": "code",
   "execution_count": 42,
   "id": "27833bef-4641-4cc3-b4b7-bfc83f38f596",
   "metadata": {},
   "outputs": [
    {
     "data": {
      "text/plain": [
       "3.6666666666666665"
      ]
     },
     "execution_count": 42,
     "metadata": {},
     "output_type": "execute_result"
    }
   ],
   "source": [
    "11/3"
   ]
  },
  {
   "cell_type": "code",
   "execution_count": 44,
   "id": "fda83934-abcc-4561-b425-fe9afd70ac20",
   "metadata": {},
   "outputs": [
    {
     "data": {
      "text/plain": [
       "2"
      ]
     },
     "execution_count": 44,
     "metadata": {},
     "output_type": "execute_result"
    }
   ],
   "source": [
    "23%3"
   ]
  },
  {
   "cell_type": "code",
   "execution_count": 46,
   "id": "c8ccd890-d0a3-45cb-b7ec-6aa55734503f",
   "metadata": {},
   "outputs": [
    {
     "data": {
      "text/plain": [
       "3"
      ]
     },
     "execution_count": 46,
     "metadata": {},
     "output_type": "execute_result"
    }
   ],
   "source": [
    "3**1"
   ]
  },
  {
   "cell_type": "code",
   "execution_count": 48,
   "id": "b9859587-4dd2-4ca3-9c17-277958fe9c67",
   "metadata": {},
   "outputs": [
    {
     "data": {
      "text/plain": [
       "3"
      ]
     },
     "execution_count": 48,
     "metadata": {},
     "output_type": "execute_result"
    }
   ],
   "source": [
    "3**1"
   ]
  },
  {
   "cell_type": "code",
   "execution_count": 52,
   "id": "f003b7df-34d8-4468-8ce2-6f43a2145212",
   "metadata": {},
   "outputs": [
    {
     "name": "stdout",
     "output_type": "stream",
     "text": [
      "False\n",
      "True\n"
     ]
    }
   ],
   "source": [
    "n1=[10,20,30,40,50]\n",
    "n2=[10,20,30,40,50]\n",
    "print(n1 is n2)\n",
    "print(n1 == n2)"
   ]
  },
  {
   "cell_type": "code",
   "execution_count": 58,
   "id": "1012f771-478f-4187-9660-8e6abc07bb29",
   "metadata": {},
   "outputs": [
    {
     "name": "stdout",
     "output_type": "stream",
     "text": [
      "0\n"
     ]
    }
   ],
   "source": [
    "a=1\n",
    "b=3\n",
    "c=5\n",
    "d=7\n",
    "result=a**d-1\n",
    "result=a%b-1\n",
    "print(result)"
   ]
  },
  {
   "cell_type": "code",
   "execution_count": 60,
   "id": "48454002-a2d2-4bbf-8db7-a2afe8edd5f2",
   "metadata": {},
   "outputs": [
    {
     "name": "stdout",
     "output_type": "stream",
     "text": [
      "['A', 'B', ' ', 'C', 'D', 'EF']\n"
     ]
    }
   ],
   "source": [
    "s='AB CD'\n",
    "list=list(s)\n",
    "list.append('EF')\n",
    "print(list)"
   ]
  },
  {
   "cell_type": "code",
   "execution_count": 62,
   "id": "f17d2761-4170-4928-a8c6-f4ad00600672",
   "metadata": {},
   "outputs": [
    {
     "name": "stdout",
     "output_type": "stream",
     "text": [
      "Valid\n"
     ]
    }
   ],
   "source": [
    "a=5\n",
    "b=10\n",
    "c=2\n",
    "d=True\n",
    "\n",
    "x=a+b+c\n",
    "y=a+b/d\n",
    "\n",
    "if x>y:\n",
    "    print('Valid')\n",
    "else:\n",
    "    print('invalid')"
   ]
  },
  {
   "cell_type": "code",
   "execution_count": 64,
   "id": "39c39c6b-23e9-4a3a-8c25-0b11de44b5e7",
   "metadata": {},
   "outputs": [
    {
     "name": "stdin",
     "output_type": "stream",
     "text": [
      "Enter the first Number: 5\n",
      "Enter the second Number: 7\n"
     ]
    },
    {
     "name": "stdout",
     "output_type": "stream",
     "text": [
      "The Result:12\n"
     ]
    }
   ],
   "source": [
    "x=input('Enter the first Number:')\n",
    "y=input('Enter the second Number:')\n",
    "print('The Result:'+str(int(x)+int(y)))"
   ]
  },
  {
   "cell_type": "code",
   "execution_count": 68,
   "id": "8fd29a27-a2cf-43c1-a266-8f9663421f1c",
   "metadata": {},
   "outputs": [
    {
     "name": "stdout",
     "output_type": "stream",
     "text": [
      "-14\n"
     ]
    }
   ],
   "source": [
    "result=a-b*c+d\n",
    "print(result)"
   ]
  },
  {
   "cell_type": "code",
   "execution_count": 77,
   "id": "d814c522-ff97-44b8-8457-504b46fce043",
   "metadata": {},
   "outputs": [
    {
     "data": {
      "text/plain": [
       "float"
      ]
     },
     "execution_count": 77,
     "metadata": {},
     "output_type": "execute_result"
    }
   ],
   "source": [
    "weight=62.4\n",
    "zip='80098'\n",
    "value=+23E4\n",
    "type(value)"
   ]
  },
  {
   "cell_type": "code",
   "execution_count": 82,
   "id": "7fbcf753-cf81-4264-b229-8928d2ae3c73",
   "metadata": {},
   "outputs": [
    {
     "name": "stdout",
     "output_type": "stream",
     "text": [
      "True True False True\n"
     ]
    }
   ],
   "source": [
    "a=bool([False])\n",
    "b=bool(3)\n",
    "c=bool(\"\")\n",
    "d=bool(' ')\n",
    "print(a,b,c,d)"
   ]
  },
  {
   "cell_type": "code",
   "execution_count": 84,
   "id": "6ae5c24e-3eb9-4989-b873-bab3db8d4bb9",
   "metadata": {},
   "outputs": [
    {
     "name": "stdout",
     "output_type": "stream",
     "text": [
      "17\n"
     ]
    }
   ],
   "source": [
    "result=(2*(3+4)**2-(3**3)*3)\n",
    "print(result)"
   ]
  },
  {
   "cell_type": "code",
   "execution_count": 88,
   "id": "2da0972f-2aeb-4e31-a378-984e3f80b9c5",
   "metadata": {},
   "outputs": [
    {
     "name": "stdout",
     "output_type": "stream",
     "text": [
      "9\n"
     ]
    }
   ],
   "source": [
    "a=2\n",
    "a+=1\n",
    "a**=2\n",
    "print(a)"
   ]
  },
  {
   "cell_type": "code",
   "execution_count": 90,
   "id": "e6b591a3-a8db-48c1-8b74-818e76d0285e",
   "metadata": {},
   "outputs": [
    {
     "name": "stdout",
     "output_type": "stream",
     "text": [
      "False True True False\n"
     ]
    }
   ],
   "source": [
    "a=bool(0)\n",
    "b=bool(3)\n",
    "c=bool(0.5)\n",
    "d=bool(0.0)\n",
    "print(a,b,c,d)"
   ]
  },
  {
   "cell_type": "code",
   "execution_count": 92,
   "id": "e8b14ceb-5f55-440c-a8de-0563fd495564",
   "metadata": {},
   "outputs": [
    {
     "name": "stdout",
     "output_type": "stream",
     "text": [
      "3.5\n",
      "3\n",
      "3\n"
     ]
    }
   ],
   "source": [
    "a=21\n",
    "b=6\n",
    "print(a/b)\n",
    "print(a//b)\n",
    "print(a%b)"
   ]
  },
  {
   "cell_type": "code",
   "execution_count": 94,
   "id": "5137b5c1-478b-4535-8570-31633ea8a436",
   "metadata": {},
   "outputs": [
    {
     "name": "stdout",
     "output_type": "stream",
     "text": [
      "True\n"
     ]
    }
   ],
   "source": [
    "subject=['java','python','sap']\n",
    "s1=['java','python','sap']\n",
    "s2=s1\n",
    "print(s2 is s1)"
   ]
  },
  {
   "cell_type": "code",
   "execution_count": 96,
   "id": "28987239-684f-48d4-bd5e-023dfb128bb2",
   "metadata": {},
   "outputs": [
    {
     "name": "stdout",
     "output_type": "stream",
     "text": [
      "False\n",
      "False\n",
      "True\n",
      "True\n"
     ]
    }
   ],
   "source": [
    "number=[10,20,30,40,50]\n",
    "alphabet=['a','b','c','d','e']\n",
    "print(number is alphabet)\n",
    "print( number == alphabet)\n",
    "number=alphabet\n",
    "print(number is alphabet)\n",
    "print(number == alphabet)"
   ]
  },
  {
   "cell_type": "code",
   "execution_count": 100,
   "id": "d9aecd17-0ad4-4813-8ba4-da74963733f6",
   "metadata": {},
   "outputs": [
    {
     "name": "stdout",
     "output_type": "stream",
     "text": [
      "0 False Durga\n"
     ]
    }
   ],
   "source": [
    "age=0\n",
    "minor=False\n",
    "name='Durga'\n",
    "print(age,minor,name)"
   ]
  },
  {
   "cell_type": "code",
   "execution_count": 102,
   "id": "7a80a3b7-6700-420c-bc2c-6518459f471c",
   "metadata": {},
   "outputs": [
    {
     "name": "stdout",
     "output_type": "stream",
     "text": [
      "3\n"
     ]
    }
   ],
   "source": [
    "s='Pythonis easy'\n",
    "s1=s[6:-4]\n",
    "print(len(s2))"
   ]
  },
  {
   "cell_type": "code",
   "execution_count": 104,
   "id": "c1b1db5e-f565-432f-b5fa-5cb1f5edea7b",
   "metadata": {},
   "outputs": [
    {
     "data": {
      "text/plain": [
       "'Mango'"
      ]
     },
     "execution_count": 104,
     "metadata": {},
     "output_type": "execute_result"
    }
   ],
   "source": [
    "list=['Apple','Banana','Carrot','Mango']\n",
    "list[-1]"
   ]
  },
  {
   "cell_type": "code",
   "execution_count": 106,
   "id": "17f13ad7-0bfe-4f95-bd29-9f4952385fe2",
   "metadata": {},
   "outputs": [
    {
     "name": "stdout",
     "output_type": "stream",
     "text": [
      "Boy\n",
      "Cat\n",
      "Dog\n"
     ]
    }
   ],
   "source": [
    "l=['Apple','Boy','Cat','Dog']\n",
    "l1=l[1:]\n",
    "for x in l1:\n",
    "    print(x)"
   ]
  },
  {
   "cell_type": "code",
   "execution_count": 108,
   "id": "58561c57-d2c1-4ec0-bfe5-8f6a6438a350",
   "metadata": {},
   "outputs": [
    {
     "name": "stdout",
     "output_type": "stream",
     "text": [
      "Boy\n",
      "Cat\n",
      "Dog\n"
     ]
    }
   ],
   "source": [
    "l=['Apple','Boy','Cat','Dog']\n",
    "for x in l:\n",
    "    if len(x)==3:\n",
    "        print(x)"
   ]
  },
  {
   "cell_type": "code",
   "execution_count": 114,
   "id": "16c19934-3168-4fc0-80e0-1b92439fd636",
   "metadata": {},
   "outputs": [
    {
     "name": "stdout",
     "output_type": "stream",
     "text": [
      "-3\n"
     ]
    }
   ],
   "source": [
    "a=1\n",
    "b=2\n",
    "c=4\n",
    "d=6\n",
    "s=a+b//d-c\n",
    "print(s)"
   ]
  },
  {
   "cell_type": "code",
   "execution_count": 116,
   "id": "1a60db77-a915-4947-93f1-b0f45ca83f07",
   "metadata": {},
   "outputs": [
    {
     "name": "stdout",
     "output_type": "stream",
     "text": [
      "17\n"
     ]
    }
   ],
   "source": [
    "reult=8//6%5+2**3-2\n",
    "print(result)"
   ]
  },
  {
   "cell_type": "code",
   "execution_count": 118,
   "id": "27e62eb0-ba40-4685-ae1e-7fc5e50b605f",
   "metadata": {},
   "outputs": [
    {
     "name": "stdout",
     "output_type": "stream",
     "text": [
      "11\n"
     ]
    }
   ],
   "source": [
    "a=3\n",
    "b=5\n",
    "a+=2**3\n",
    "a-=b//2//3\n",
    "print(a)"
   ]
  },
  {
   "cell_type": "code",
   "execution_count": null,
   "id": "939bbaba-54fb-4668-89a0-36ae922204a8",
   "metadata": {},
   "outputs": [],
   "source": []
  }
 ],
 "metadata": {
  "kernelspec": {
   "display_name": "Python 3 (ipykernel)",
   "language": "python",
   "name": "python3"
  },
  "language_info": {
   "codemirror_mode": {
    "name": "ipython",
    "version": 3
   },
   "file_extension": ".py",
   "mimetype": "text/x-python",
   "name": "python",
   "nbconvert_exporter": "python",
   "pygments_lexer": "ipython3",
   "version": "3.12.4"
  }
 },
 "nbformat": 4,
 "nbformat_minor": 5
}
